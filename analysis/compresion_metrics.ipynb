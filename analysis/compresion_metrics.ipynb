{
 "cells": [
  {
   "cell_type": "markdown",
   "source": [
    "# Visualization of the Snappy Compression results\n",
    "The data belongs to the `Go` implementation using purelly Ethereum CL `signed_blocks`\n"
   ],
   "metadata": {
    "collapsed": false
   }
  },
  {
   "cell_type": "code",
   "execution_count": null,
   "outputs": [],
   "source": [
    "# Import the dependencies\n",
    "import os\n",
    "import numpy as np\n",
    "import pandas as pd\n",
    "import matplotlib.pyplot as plt\n",
    "import seaborn as sns\n",
    "from IPython.display import display\n",
    "import warnings\n",
    "warnings.filterwarnings('ignore')\n",
    "\n",
    "RESULTS_FOLDER = './../results'\n",
    "PLOTS_FOLDER= './plots/'\n",
    "\n",
    "# Read all the available csv files in the given folder\n",
    "def read_files_with(folder: str, filter: str = \"\"):\n",
    "    fs = []\n",
    "    for dir, _, files in os.walk(folder):\n",
    "        for file in files:\n",
    "            if filter in file:\n",
    "                fs.append(dir+\"/\"+file)\n",
    "            else:\n",
    "                continue\n",
    "    print(f\"found {len(fs)} with {filter} files in {folder}\")\n",
    "    return fs\n"
   ],
   "metadata": {
    "collapsed": false
   }
  },
  {
   "cell_type": "code",
   "execution_count": null,
   "outputs": [],
   "source": [
    "\n",
    "files = read_files_with(RESULTS_FOLDER)\n",
    "dataframes = []\n",
    "for file in files:\n",
    "    df = pd.read_csv(file)\n",
    "    dataframes.append(df)\n",
    "\n",
    "dfs = pd.concat(dataframes)\n",
    "dfs = dfs.groupby(['folder','file']).mean().reset_index()\n",
    "try:\n",
    "    dfs = dfs.drop(columns=[\"Unnamed: 0\", \"Unnamed: 0.1\"])\n",
    "except:\n",
    "    pass\n",
    "dfs.to_csv('block_snappy_compression_summary.csv')\n",
    "display(dfs)\n"
   ],
   "metadata": {
    "collapsed": false
   }
  },
  {
   "cell_type": "code",
   "execution_count": null,
   "outputs": [],
   "source": [
    "# Raw Size\n",
    "dfs = dfs.sort_values('raw-size')\n",
    "dfs['raw_size_mb'] = dfs['raw-size'] / 1000_000 # MB\n",
    "sns.set()\n",
    "g = sns.ecdfplot(data=dfs, x='raw_size_mb', hue='folder')\n",
    "g.set(title=\"Raw size CDF\", xlabel=\"Raw size (MB)\", ylabel=\"CDF\")\n",
    "plt.savefig(PLOTS_FOLDER+'raw_size_cdf.png')\n",
    "plt.show()\n",
    "\n",
    "sns.set()\n",
    "g = sns.histplot(data=dfs, x='raw_size_mb', bins=8, hue='folder')\n",
    "g.set(title=\"Raw size PDF\", xlabel=\"Raw size (MB)\", ylabel=\"CDF\")\n",
    "plt.savefig(PLOTS_FOLDER+'raw_size_pdf.png')\n",
    "plt.show()"
   ],
   "metadata": {
    "collapsed": false
   }
  },
  {
   "cell_type": "code",
   "execution_count": null,
   "outputs": [],
   "source": [
    "# Compress Ratio\n",
    "dfs = dfs.sort_values('compress-ratio')\n",
    "sns.set()\n",
    "g = sns.ecdfplot(data=dfs, x='compress-ratio', hue='folder')\n",
    "g.set(title=\"Compress ratio CDF\", xlabel=\"Compress ratio\", ylabel=\"CDF\")\n",
    "plt.savefig(PLOTS_FOLDER+'compression_ratio_cdf.png')\n",
    "plt.show()\n",
    "\n",
    "sns.set()\n",
    "g = sns.histplot(data=dfs, x='compress-ratio', bins=8, hue='folder')\n",
    "g.set(title=\"Compress ratio PDF\", xlabel=\"Compress ratio\", ylabel=\"CDF\")\n",
    "plt.savefig(PLOTS_FOLDER+'compression_ratio_pdf.png')\n",
    "plt.show()\n"
   ],
   "metadata": {
    "collapsed": false
   }
  },
  {
   "cell_type": "code",
   "execution_count": null,
   "outputs": [],
   "source": [
    "# Compress Size\n",
    "dfs = dfs.sort_values('compress-size')\n",
    "dfs['compress_size_mb'] = dfs['compress-size'] / 1000_000 # MB\n",
    "sns.set()\n",
    "g = sns.ecdfplot(data=dfs, x='compress_size_mb', hue='folder')\n",
    "g.set(title=\"Compress size CDF\", xlabel=\"Compress size (MB)\", ylabel=\"CDF\")\n",
    "plt.savefig(PLOTS_FOLDER+'compressed_size_cdf.png')\n",
    "plt.show()\n",
    "\n",
    "sns.set()\n",
    "g = sns.histplot(data=dfs, x='compress_size_mb', bins=8, hue='folder')\n",
    "g.set(title=\"Compress size PDF\", xlabel=\"Compress size (MB)\", ylabel=\"CDF\")\n",
    "plt.savefig(PLOTS_FOLDER+'compressed_size_pdf.png')\n",
    "plt.show()"
   ],
   "metadata": {
    "collapsed": false
   }
  },
  {
   "cell_type": "code",
   "execution_count": null,
   "outputs": [],
   "source": [
    "# averages\n",
    "dfs['encoding_ms'] = dfs['encoding-time'] / 1_000_000 # from nano to ms\n",
    "dfs['decoding_ms'] = dfs['decoding-time'] / 1_000_000 # from nano to ms\n",
    "dfs['compress_mb_s'] = dfs['compress-speed'] * 1_000 # from bytes/nano to mbs/s\n",
    "\n",
    "avgs = dfs.drop(columns=[\"file\", \"compress-speed\", \"compress-ratio\", \"compress-size\", \"raw-size\", \"encoding-time\", \"decoding-time\"])\n",
    "avgs = avgs.groupby(\"folder\").mean()\n",
    "display(avgs)"
   ],
   "metadata": {
    "collapsed": false
   }
  }
 ],
 "metadata": {
  "kernelspec": {
   "display_name": "Python 3",
   "language": "python",
   "name": "python3"
  },
  "language_info": {
   "codemirror_mode": {
    "name": "ipython",
    "version": 2
   },
   "file_extension": ".py",
   "mimetype": "text/x-python",
   "name": "python",
   "nbconvert_exporter": "python",
   "pygments_lexer": "ipython2",
   "version": "2.7.6"
  }
 },
 "nbformat": 4,
 "nbformat_minor": 0
}
